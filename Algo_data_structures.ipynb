{
 "cells": [
  {
   "cell_type": "markdown",
   "id": "faaa2f03",
   "metadata": {},
   "source": [
    "### Defining Function\n",
    "Creating the function that returns the index (*posistion*) of the number.\n",
    "#### Thinking about edge cases:\n",
    "- List contains only instances of int\n",
    "- List is empty\n",
    "- List has only one number\n",
    "- List has only one number that is not queried\n",
    "- List has multiple numbers without the queried number\n",
    "- List contains multiple occurrences of the queried number"
   ]
  },
  {
   "cell_type": "code",
   "execution_count": 1,
   "id": "70d48a96",
   "metadata": {},
   "outputs": [],
   "source": [
    "def find_card(cards, query):\n",
    "    # making sure that the list of cards contains instances of int only\n",
    "    contains_int = all(isinstance(n, int) for n in cards)\n",
    "    if not contains_int:\n",
    "        print('list of cards contains values that are not instance of int.')\n",
    "        return -1\n",
    "    # empty list of cards\n",
    "    if len(cards) == 0:\n",
    "        print('empty list.')\n",
    "        return -1\n",
    "    # single card in the list of cards\n",
    "    elif len(cards) == 1:\n",
    "        if cards[0] == query:\n",
    "            print('single card in the deck which is the queried card number.')\n",
    "            return 0\n",
    "        else:\n",
    "            print('single card in the deck which is NOT the queried card number.')\n",
    "            return -1\n",
    "    # multiple cards but doesn't contain queried number\n",
    "    elif query not in cards:\n",
    "        print(f'query = {query} and deck = {cards}')\n",
    "        print('multiple cards in the deck, queried card number not found.')\n",
    "        return -1\n",
    "    # multiple cards, deck contains queried number\n",
    "    elif query in cards:\n",
    "        position = cards.index(query)\n",
    "        # Don't need to pop the card\n",
    "        # cards.pop(position)\n",
    "        # multiple cards; queried number found on multiple occasions:\n",
    "        if query in cards:\n",
    "            print('multiple occurences of the queried number found in the deck.')\n",
    "        else:\n",
    "            print('single occurrence of the queried number found in the deck.')\n",
    "        return position"
   ]
  },
  {
   "cell_type": "code",
   "execution_count": 2,
   "id": "50627a0b",
   "metadata": {},
   "outputs": [],
   "source": [
    "tests = []"
   ]
  },
  {
   "cell_type": "code",
   "execution_count": 3,
   "id": "9d69199d",
   "metadata": {},
   "outputs": [],
   "source": [
    "tests.append({\n",
    "    'input': { \n",
    "        'cards': [13, 11, 10, 7, 4, 3, 1, 0], \n",
    "        'query': 7\n",
    "    },\n",
    "    'output': 3\n",
    "})"
   ]
  },
  {
   "cell_type": "code",
   "execution_count": 4,
   "id": "2e763e1a",
   "metadata": {},
   "outputs": [],
   "source": [
    "tests.append({\n",
    "    'input': {\n",
    "        'cards': [13, 11, 10, 7, 4, 3, 1, 0],\n",
    "        'query': 1\n",
    "    },\n",
    "    'output': 6\n",
    "})"
   ]
  },
  {
   "cell_type": "code",
   "execution_count": 5,
   "id": "311e7420",
   "metadata": {},
   "outputs": [],
   "source": [
    "tests.append({\n",
    "    'input': {\n",
    "        'cards': [4, 2, 1, -1],\n",
    "        'query': 4\n",
    "    },\n",
    "    'output': 0\n",
    "})"
   ]
  },
  {
   "cell_type": "code",
   "execution_count": 6,
   "id": "5366629f",
   "metadata": {},
   "outputs": [],
   "source": [
    "tests.append({\n",
    "    'input': {\n",
    "        'cards': [3, -1, -9, -127],\n",
    "        'query': -127\n",
    "    },\n",
    "    'output': 3\n",
    "})"
   ]
  },
  {
   "cell_type": "code",
   "execution_count": 7,
   "id": "05370885",
   "metadata": {},
   "outputs": [],
   "source": [
    "tests.append({\n",
    "    'input': {\n",
    "        'cards': [6],\n",
    "        'query': 6\n",
    "    },\n",
    "    'output': 0 \n",
    "})"
   ]
  },
  {
   "cell_type": "code",
   "execution_count": 8,
   "id": "e97eaf95",
   "metadata": {},
   "outputs": [],
   "source": [
    "# list contains only one card which is NOT the queried one\n",
    "tests.append({\n",
    "    'input': {\n",
    "        'cards': [9],\n",
    "        'query': 6\n",
    "    },\n",
    "    'output': -1\n",
    "})"
   ]
  },
  {
   "cell_type": "code",
   "execution_count": 9,
   "id": "8d7b590a",
   "metadata": {},
   "outputs": [],
   "source": [
    "# list contains instances other than int\n",
    "tests.append({\n",
    "    'input': {\n",
    "        'cards': [6, 'a'],\n",
    "        'query': 6\n",
    "    },\n",
    "    'output': -1\n",
    "})"
   ]
  },
  {
   "cell_type": "code",
   "execution_count": 10,
   "id": "2b465d47",
   "metadata": {},
   "outputs": [],
   "source": [
    "# list is empty\n",
    "tests.append({\n",
    "    'input': {\n",
    "        'cards': [],\n",
    "        'query': 6\n",
    "    },\n",
    "    'output': -1\n",
    "})"
   ]
  },
  {
   "cell_type": "code",
   "execution_count": 11,
   "id": "54db65ac",
   "metadata": {},
   "outputs": [],
   "source": [
    "tests.append({\n",
    "    'input': {\n",
    "        'cards': [6],\n",
    "        'query': 6\n",
    "    },\n",
    "    'output': 0 \n",
    "})"
   ]
  },
  {
   "cell_type": "code",
   "execution_count": 12,
   "id": "fee0e520",
   "metadata": {},
   "outputs": [],
   "source": [
    "tests.append({\n",
    "    'input': {\n",
    "        'cards': [6, 8],\n",
    "        'query': 7\n",
    "    },\n",
    "    'output': -1\n",
    "})"
   ]
  },
  {
   "cell_type": "code",
   "execution_count": 13,
   "id": "fc7ff3a9",
   "metadata": {},
   "outputs": [],
   "source": [
    "tests.append({\n",
    "    'input': {\n",
    "        'cards': [6, 6, 5],\n",
    "        'query': 6\n",
    "    },\n",
    "    'output': 0\n",
    "})"
   ]
  },
  {
   "cell_type": "code",
   "execution_count": 14,
   "id": "bba70c6e",
   "metadata": {},
   "outputs": [
    {
     "data": {
      "text/plain": [
       "[{'input': {'cards': [13, 11, 10, 7, 4, 3, 1, 0], 'query': 7}, 'output': 3},\n",
       " {'input': {'cards': [13, 11, 10, 7, 4, 3, 1, 0], 'query': 1}, 'output': 6},\n",
       " {'input': {'cards': [4, 2, 1, -1], 'query': 4}, 'output': 0},\n",
       " {'input': {'cards': [3, -1, -9, -127], 'query': -127}, 'output': 3},\n",
       " {'input': {'cards': [6], 'query': 6}, 'output': 0},\n",
       " {'input': {'cards': [9], 'query': 6}, 'output': -1},\n",
       " {'input': {'cards': [6, 'a'], 'query': 6}, 'output': -1},\n",
       " {'input': {'cards': [], 'query': 6}, 'output': -1},\n",
       " {'input': {'cards': [6], 'query': 6}, 'output': 0},\n",
       " {'input': {'cards': [6, 8], 'query': 7}, 'output': -1},\n",
       " {'input': {'cards': [6, 6, 5], 'query': 6}, 'output': 0}]"
      ]
     },
     "execution_count": 14,
     "metadata": {},
     "output_type": "execute_result"
    }
   ],
   "source": [
    "tests"
   ]
  },
  {
   "cell_type": "markdown",
   "id": "34b18dcf",
   "metadata": {},
   "source": [
    "#### *Run this code if you don't want to check cases*\n",
    "```for deck in tests:\n",
    "    find_card(**deck['input'])```"
   ]
  },
  {
   "cell_type": "code",
   "execution_count": 15,
   "id": "d00b6606",
   "metadata": {},
   "outputs": [],
   "source": [
    "def evaluate_casses(output, find_card):\n",
    "    if find_card == output:\n",
    "        print('PASS')\n",
    "    else:\n",
    "        print('ERROR')"
   ]
  },
  {
   "cell_type": "code",
   "execution_count": 16,
   "id": "0349c6d9",
   "metadata": {},
   "outputs": [
    {
     "name": "stdout",
     "output_type": "stream",
     "text": [
      "multiple occurences of the queried number found in the deck.\n",
      "PASS\n",
      "multiple occurences of the queried number found in the deck.\n",
      "PASS\n",
      "multiple occurences of the queried number found in the deck.\n",
      "PASS\n",
      "multiple occurences of the queried number found in the deck.\n",
      "PASS\n",
      "single card in the deck which is the queried card number.\n",
      "PASS\n",
      "single card in the deck which is NOT the queried card number.\n",
      "PASS\n",
      "list of cards contains values that are not instance of int.\n",
      "PASS\n",
      "empty list.\n",
      "PASS\n",
      "single card in the deck which is the queried card number.\n",
      "PASS\n",
      "query = 7 and deck = [6, 8]\n",
      "multiple cards in the deck, queried card number not found.\n",
      "PASS\n",
      "multiple occurences of the queried number found in the deck.\n",
      "PASS\n"
     ]
    }
   ],
   "source": [
    "for deck in tests:\n",
    "    evaluate_casses(deck['output'], find_card(**deck['input']))"
   ]
  },
  {
   "cell_type": "markdown",
   "id": "771c34a4",
   "metadata": {},
   "source": [
    "Test."
   ]
  }
 ],
 "metadata": {
  "kernelspec": {
   "display_name": "Python 3",
   "language": "python",
   "name": "python3"
  },
  "language_info": {
   "codemirror_mode": {
    "name": "ipython",
    "version": 3
   },
   "file_extension": ".py",
   "mimetype": "text/x-python",
   "name": "python",
   "nbconvert_exporter": "python",
   "pygments_lexer": "ipython3",
   "version": "3.7.10"
  }
 },
 "nbformat": 4,
 "nbformat_minor": 5
}
